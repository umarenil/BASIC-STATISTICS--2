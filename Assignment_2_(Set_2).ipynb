{
  "cells": [
    {
      "cell_type": "code",
      "execution_count": null,
      "id": "94b910f8",
      "metadata": {
        "id": "94b910f8"
      },
      "outputs": [],
      "source": [
        "import numpy as np\n",
        "from scipy import stats"
      ]
    },
    {
      "cell_type": "markdown",
      "id": "a6f78b10",
      "metadata": {
        "id": "a6f78b10"
      },
      "source": [
        "#### Question 1"
      ]
    },
    {
      "cell_type": "code",
      "execution_count": null,
      "id": "c0ecbc7a",
      "metadata": {
        "id": "c0ecbc7a",
        "outputId": "3a716622-2fb5-412f-e310-88719065a7ec"
      },
      "outputs": [
        {
          "data": {
            "text/plain": [
              "0.26598552904870054"
            ]
          },
          "execution_count": 2,
          "metadata": {},
          "output_type": "execute_result"
        }
      ],
      "source": [
        "1-stats.norm.cdf(50,loc= 45, scale = 8)"
      ]
    },
    {
      "cell_type": "code",
      "execution_count": null,
      "id": "e535b66b",
      "metadata": {
        "id": "e535b66b"
      },
      "outputs": [],
      "source": [
        "#Answer is option B"
      ]
    },
    {
      "cell_type": "markdown",
      "id": "955a7921",
      "metadata": {
        "id": "955a7921"
      },
      "source": [
        "#### Quetion 2"
      ]
    },
    {
      "cell_type": "code",
      "execution_count": null,
      "id": "7343070a",
      "metadata": {
        "id": "7343070a"
      },
      "outputs": [],
      "source": [
        "#Statement A :More employees at the processing center are older than 44 than between 38 and 44. "
      ]
    },
    {
      "cell_type": "code",
      "execution_count": null,
      "id": "59742f45",
      "metadata": {
        "id": "59742f45",
        "outputId": "a07e020e-687e-437f-883d-297b6cb69502"
      },
      "outputs": [
        {
          "data": {
            "text/plain": [
              "0.3413447460685429"
            ]
          },
          "execution_count": 7,
          "metadata": {},
          "output_type": "execute_result"
        }
      ],
      "source": [
        "#Probability of number of employees aged between 38 and 44 is\n",
        "#Area till X = 44 - Area till X=38(0.5 since it is mean)\n",
        "stats.norm.cdf(44, loc = 38, scale = 6) -0.5 "
      ]
    },
    {
      "cell_type": "code",
      "execution_count": null,
      "id": "bccded6f",
      "metadata": {
        "id": "bccded6f",
        "outputId": "e07b0ae1-f130-4c61-9c9d-c3517a9263ad"
      },
      "outputs": [
        {
          "data": {
            "text/plain": [
              "0.15865525393145707"
            ]
          },
          "execution_count": 8,
          "metadata": {},
          "output_type": "execute_result"
        }
      ],
      "source": [
        "#Probability of number employees aged greater than 44 is\n",
        "1-stats.norm.cdf(44, loc = 38, scale = 6)"
      ]
    },
    {
      "cell_type": "code",
      "execution_count": null,
      "id": "1cd898db",
      "metadata": {
        "id": "1cd898db"
      },
      "outputs": [],
      "source": [
        "#Therfore Statement A is FALSE"
      ]
    },
    {
      "cell_type": "code",
      "execution_count": null,
      "id": "2da7d990",
      "metadata": {
        "id": "2da7d990"
      },
      "outputs": [],
      "source": [
        "#Statement B: A training program for employees under the age of 30 at the center would be expected to attract about 36 employees. "
      ]
    },
    {
      "cell_type": "code",
      "execution_count": null,
      "id": "9f365c37",
      "metadata": {
        "id": "9f365c37"
      },
      "outputs": [],
      "source": [
        "#Probability of number of employees under the age of 30 \n",
        "p = stats.norm.cdf(30, 38,6)"
      ]
    },
    {
      "cell_type": "code",
      "execution_count": null,
      "id": "802bb9b5",
      "metadata": {
        "id": "802bb9b5",
        "outputId": "1630500a-0eec-48d1-ca60-87b5eb05eb3c"
      },
      "outputs": [
        {
          "data": {
            "text/plain": [
              "36.0"
            ]
          },
          "execution_count": 12,
          "metadata": {},
          "output_type": "execute_result"
        }
      ],
      "source": [
        "# The total number of employees under the age of 30 is\n",
        "#Probability * Total number of employees\n",
        "np.round(p * 400) "
      ]
    },
    {
      "cell_type": "code",
      "execution_count": null,
      "id": "5d8412e4",
      "metadata": {
        "id": "5d8412e4"
      },
      "outputs": [],
      "source": [
        "#Therfore Statement B is TRUE"
      ]
    },
    {
      "cell_type": "markdown",
      "id": "05db03f4",
      "metadata": {
        "id": "05db03f4"
      },
      "source": [
        "#### Question 4"
      ]
    },
    {
      "cell_type": "code",
      "execution_count": null,
      "id": "ffdb86e1",
      "metadata": {
        "id": "ffdb86e1"
      },
      "outputs": [],
      "source": [
        "# Given mean is 100 and standard deviation is 20\n"
      ]
    },
    {
      "cell_type": "code",
      "execution_count": null,
      "id": "1cda142a",
      "metadata": {
        "id": "1cda142a",
        "outputId": "dfcf60fc-ab2b-46c1-fe11-88674521a1d4"
      },
      "outputs": [
        {
          "data": {
            "text/plain": [
              "(48.48341392902199, 151.516586070978)"
            ]
          },
          "execution_count": 31,
          "metadata": {},
          "output_type": "execute_result"
        }
      ],
      "source": [
        "# Given mean is 100 and standard deviation is 20\n",
        "#Since we need Find two values, a and b, symmetric about the mean, such that the probability of the random variable taking a value between them is 0.99. \n",
        "stats.norm.interval(0.99,100,20)\n"
      ]
    },
    {
      "cell_type": "code",
      "execution_count": null,
      "id": "aee41f76",
      "metadata": {
        "id": "aee41f76"
      },
      "outputs": [],
      "source": [
        "#Therefore the Answer is option D"
      ]
    },
    {
      "cell_type": "markdown",
      "id": "5f8b78cb",
      "metadata": {
        "id": "5f8b78cb"
      },
      "source": [
        "#### Question 5"
      ]
    },
    {
      "cell_type": "code",
      "execution_count": null,
      "id": "5408f109",
      "metadata": {
        "id": "5408f109"
      },
      "outputs": [],
      "source": [
        "import numpy as np\n",
        "from scipy import stats"
      ]
    },
    {
      "cell_type": "code",
      "execution_count": null,
      "id": "93bf1ba6",
      "metadata": {
        "id": "93bf1ba6",
        "outputId": "fdde9dbc-2012-4b2d-d093-324a13bfb7e4"
      },
      "outputs": [
        {
          "name": "stdout",
          "output_type": "stream",
          "text": [
            "Mean profit of the company is Rs 540 Million\n"
          ]
        }
      ],
      "source": [
        "# Mean profits from two different divisions of a company = Mean1 + Mean2\n",
        "mean = 5 +7\n",
        "print('Mean profit of the company is Rs', mean*45, 'Million')"
      ]
    },
    {
      "cell_type": "code",
      "execution_count": null,
      "id": "995b09ed",
      "metadata": {
        "id": "995b09ed",
        "outputId": "9257d3c2-aaaf-432e-d54e-086b4b34ba81"
      },
      "outputs": [
        {
          "name": "stdout",
          "output_type": "stream",
          "text": [
            "The Standard deviation of Profit of the company is Rs 225.0 Million\n"
          ]
        }
      ],
      "source": [
        "# Variance of profits from two different divisions of a company = SD^2 = SD1^2 + SD2^2\n",
        "sd = np.sqrt(9+16)\n",
        "print('The Standard deviation of Profit of the company is Rs', sd*45,'Million')"
      ]
    },
    {
      "cell_type": "code",
      "execution_count": null,
      "id": "e5f8d84e",
      "metadata": {
        "id": "e5f8d84e",
        "outputId": "1a020f57-bd75-4520-8d87-6fb34ba3e582"
      },
      "outputs": [
        {
          "name": "stdout",
          "output_type": "stream",
          "text": [
            "The Range is (99.00810347848784, 980.9918965215122) in Million rupees\n"
          ]
        }
      ],
      "source": [
        "# A. Specify a Rupee range (centered on the mean) such that it contains 95% probability for the annual profit of the company.\n",
        "print('The Range is',stats.norm.interval(0.95,540,225),'in Million rupees')"
      ]
    },
    {
      "cell_type": "code",
      "execution_count": null,
      "id": "b8d9efcc",
      "metadata": {
        "id": "b8d9efcc",
        "outputId": "d489f627-9da0-4474-faad-c7e3ede63bc3"
      },
      "outputs": [
        {
          "name": "stdout",
          "output_type": "stream",
          "text": [
            "5th percentile of profit (in Million Rupees) is 170.0\n"
          ]
        }
      ],
      "source": [
        "# B. Specify the 5th percentile of profit (in Rupees) for the company\n",
        "X= (stats.norm.ppf(0.05,loc=540,scale=225))\n",
        "print('5th percentile of profit (in Million Rupees) is',np.round(X,))"
      ]
    },
    {
      "cell_type": "code",
      "execution_count": null,
      "id": "f5cdd2fc",
      "metadata": {
        "id": "f5cdd2fc"
      },
      "outputs": [],
      "source": [
        "# C. Which of the two divisions has a larger probability of making a loss in a given year?"
      ]
    },
    {
      "cell_type": "code",
      "execution_count": null,
      "id": "aa1b7afa",
      "metadata": {
        "id": "aa1b7afa",
        "outputId": "06cb07fa-710f-4a8c-9dd6-a156536671dd"
      },
      "outputs": [
        {
          "data": {
            "text/plain": [
              "0.0477903522728147"
            ]
          },
          "execution_count": 23,
          "metadata": {},
          "output_type": "execute_result"
        }
      ],
      "source": [
        "# Probability of Division 1 making a loss P(X<0)\n",
        "stats.norm.cdf(0,5,3)"
      ]
    },
    {
      "cell_type": "code",
      "execution_count": null,
      "id": "8daee064",
      "metadata": {
        "id": "8daee064",
        "outputId": "1535bb43-0207-4504-9d4a-a8058202b029"
      },
      "outputs": [
        {
          "data": {
            "text/plain": [
              "0.040059156863817086"
            ]
          },
          "execution_count": 24,
          "metadata": {},
          "output_type": "execute_result"
        }
      ],
      "source": [
        "# Probability of Division 2 making a loss P(X<0)\n",
        "stats.norm.cdf(0,7,4)"
      ]
    },
    {
      "cell_type": "code",
      "execution_count": null,
      "id": "839ccca9",
      "metadata": {
        "id": "839ccca9"
      },
      "outputs": [],
      "source": [
        "#Division 1 has a high probabiity of making loss"
      ]
    },
    {
      "cell_type": "code",
      "execution_count": null,
      "id": "f8c9d73b",
      "metadata": {
        "id": "f8c9d73b"
      },
      "outputs": [],
      "source": []
    }
  ],
  "metadata": {
    "kernelspec": {
      "display_name": "Python 3 (ipykernel)",
      "language": "python",
      "name": "python3"
    },
    "language_info": {
      "codemirror_mode": {
        "name": "ipython",
        "version": 3
      },
      "file_extension": ".py",
      "mimetype": "text/x-python",
      "name": "python",
      "nbconvert_exporter": "python",
      "pygments_lexer": "ipython3",
      "version": "3.9.13"
    },
    "colab": {
      "provenance": []
    }
  },
  "nbformat": 4,
  "nbformat_minor": 5
}